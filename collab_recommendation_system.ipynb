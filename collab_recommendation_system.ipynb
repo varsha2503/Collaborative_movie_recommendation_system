{
  "cells": [
    {
      "cell_type": "markdown",
      "metadata": {
        "id": "fn7jdTr4EcXC"
      },
      "source": [
        "# **User-User Filtering**"
      ]
    },
    {
      "cell_type": "code",
      "execution_count": 2,
      "metadata": {},
      "outputs": [
        {
          "name": "stdout",
          "output_type": "stream",
          "text": [
            "Collecting pandasNote: you may need to restart the kernel to use updated packages.\n",
            "\n",
            "  Downloading pandas-2.2.2-cp312-cp312-win_amd64.whl.metadata (19 kB)\n",
            "Requirement already satisfied: numpy>=1.26.0 in c:\\users\\krgauravp\\appdata\\local\\programs\\python\\python312\\lib\\site-packages (from pandas) (1.26.4)\n",
            "Requirement already satisfied: python-dateutil>=2.8.2 in c:\\users\\krgauravp\\appdata\\local\\programs\\python\\python312\\lib\\site-packages (from pandas) (2.9.0.post0)\n",
            "Collecting pytz>=2020.1 (from pandas)\n",
            "  Downloading pytz-2024.1-py2.py3-none-any.whl.metadata (22 kB)\n",
            "Collecting tzdata>=2022.7 (from pandas)\n",
            "  Downloading tzdata-2024.1-py2.py3-none-any.whl.metadata (1.4 kB)\n",
            "Requirement already satisfied: six>=1.5 in c:\\users\\krgauravp\\appdata\\local\\programs\\python\\python312\\lib\\site-packages (from python-dateutil>=2.8.2->pandas) (1.16.0)\n",
            "Downloading pandas-2.2.2-cp312-cp312-win_amd64.whl (11.5 MB)\n",
            "   ---------------------------------------- 0.0/11.5 MB ? eta -:--:--\n",
            "   ---------------------------------------- 0.1/11.5 MB 2.6 MB/s eta 0:00:05\n",
            "    --------------------------------------- 0.2/11.5 MB 3.1 MB/s eta 0:00:04\n",
            "   - -------------------------------------- 0.4/11.5 MB 3.4 MB/s eta 0:00:04\n",
            "   -- ------------------------------------- 0.6/11.5 MB 3.7 MB/s eta 0:00:03\n",
            "   -- ------------------------------------- 0.8/11.5 MB 3.5 MB/s eta 0:00:04\n",
            "   --- ------------------------------------ 1.0/11.5 MB 3.6 MB/s eta 0:00:03\n",
            "   --- ------------------------------------ 1.1/11.5 MB 3.6 MB/s eta 0:00:03\n",
            "   ---- ----------------------------------- 1.3/11.5 MB 3.6 MB/s eta 0:00:03\n",
            "   ----- ---------------------------------- 1.5/11.5 MB 3.7 MB/s eta 0:00:03\n",
            "   ----- ---------------------------------- 1.7/11.5 MB 3.7 MB/s eta 0:00:03\n",
            "   ------ --------------------------------- 1.9/11.5 MB 3.7 MB/s eta 0:00:03\n",
            "   ------- -------------------------------- 2.0/11.5 MB 3.7 MB/s eta 0:00:03\n",
            "   ------- -------------------------------- 2.2/11.5 MB 3.7 MB/s eta 0:00:03\n",
            "   -------- ------------------------------- 2.4/11.5 MB 3.7 MB/s eta 0:00:03\n",
            "   -------- ------------------------------- 2.5/11.5 MB 3.8 MB/s eta 0:00:03\n",
            "   --------- ------------------------------ 2.7/11.5 MB 3.7 MB/s eta 0:00:03\n",
            "   --------- ------------------------------ 2.9/11.5 MB 3.7 MB/s eta 0:00:03\n",
            "   ---------- ----------------------------- 3.0/11.5 MB 3.7 MB/s eta 0:00:03\n",
            "   ----------- ---------------------------- 3.2/11.5 MB 3.7 MB/s eta 0:00:03\n",
            "   ----------- ---------------------------- 3.4/11.5 MB 3.6 MB/s eta 0:00:03\n",
            "   ------------ --------------------------- 3.5/11.5 MB 3.7 MB/s eta 0:00:03\n",
            "   ------------ --------------------------- 3.7/11.5 MB 3.7 MB/s eta 0:00:03\n",
            "   ------------- -------------------------- 3.9/11.5 MB 3.7 MB/s eta 0:00:03\n",
            "   ------------- -------------------------- 4.0/11.5 MB 3.7 MB/s eta 0:00:03\n",
            "   -------------- ------------------------- 4.2/11.5 MB 3.7 MB/s eta 0:00:02\n",
            "   --------------- ------------------------ 4.4/11.5 MB 3.7 MB/s eta 0:00:02\n",
            "   --------------- ------------------------ 4.5/11.5 MB 3.7 MB/s eta 0:00:02\n",
            "   ---------------- ----------------------- 4.7/11.5 MB 3.7 MB/s eta 0:00:02\n",
            "   ---------------- ----------------------- 4.9/11.5 MB 3.7 MB/s eta 0:00:02\n",
            "   ----------------- ---------------------- 5.0/11.5 MB 3.7 MB/s eta 0:00:02\n",
            "   ------------------ --------------------- 5.2/11.5 MB 3.7 MB/s eta 0:00:02\n",
            "   ------------------ --------------------- 5.4/11.5 MB 3.7 MB/s eta 0:00:02\n",
            "   ------------------- -------------------- 5.6/11.5 MB 3.7 MB/s eta 0:00:02\n",
            "   ------------------- -------------------- 5.7/11.5 MB 3.7 MB/s eta 0:00:02\n",
            "   -------------------- ------------------- 5.9/11.5 MB 3.6 MB/s eta 0:00:02\n",
            "   --------------------- ------------------ 6.1/11.5 MB 3.7 MB/s eta 0:00:02\n",
            "   --------------------- ------------------ 6.3/11.5 MB 3.7 MB/s eta 0:00:02\n",
            "   ---------------------- ----------------- 6.4/11.5 MB 3.7 MB/s eta 0:00:02\n",
            "   ---------------------- ----------------- 6.6/11.5 MB 3.7 MB/s eta 0:00:02\n",
            "   ----------------------- ---------------- 6.7/11.5 MB 3.7 MB/s eta 0:00:02\n",
            "   ----------------------- ---------------- 6.8/11.5 MB 3.6 MB/s eta 0:00:02\n",
            "   ------------------------ --------------- 7.0/11.5 MB 3.6 MB/s eta 0:00:02\n",
            "   ------------------------ --------------- 7.2/11.5 MB 3.6 MB/s eta 0:00:02\n",
            "   ------------------------- -------------- 7.3/11.5 MB 3.6 MB/s eta 0:00:02\n",
            "   ------------------------- -------------- 7.5/11.5 MB 3.6 MB/s eta 0:00:02\n",
            "   -------------------------- ------------- 7.7/11.5 MB 3.6 MB/s eta 0:00:02\n",
            "   --------------------------- ------------ 7.8/11.5 MB 3.6 MB/s eta 0:00:02\n",
            "   --------------------------- ------------ 8.0/11.5 MB 3.6 MB/s eta 0:00:01\n",
            "   ---------------------------- ----------- 8.2/11.5 MB 3.6 MB/s eta 0:00:01\n",
            "   ----------------------------- ---------- 8.4/11.5 MB 3.6 MB/s eta 0:00:01\n",
            "   ----------------------------- ---------- 8.6/11.5 MB 3.6 MB/s eta 0:00:01\n",
            "   ------------------------------ --------- 8.7/11.5 MB 3.6 MB/s eta 0:00:01\n",
            "   ------------------------------ --------- 8.9/11.5 MB 3.6 MB/s eta 0:00:01\n",
            "   ------------------------------- -------- 9.1/11.5 MB 3.6 MB/s eta 0:00:01\n",
            "   -------------------------------- ------- 9.3/11.5 MB 3.6 MB/s eta 0:00:01\n",
            "   -------------------------------- ------- 9.4/11.5 MB 3.6 MB/s eta 0:00:01\n",
            "   --------------------------------- ------ 9.6/11.5 MB 3.6 MB/s eta 0:00:01\n",
            "   --------------------------------- ------ 9.7/11.5 MB 3.6 MB/s eta 0:00:01\n",
            "   ---------------------------------- ----- 9.9/11.5 MB 3.6 MB/s eta 0:00:01\n",
            "   ----------------------------------- ---- 10.1/11.5 MB 3.6 MB/s eta 0:00:01\n",
            "   ----------------------------------- ---- 10.3/11.5 MB 3.6 MB/s eta 0:00:01\n",
            "   ------------------------------------ --- 10.4/11.5 MB 3.6 MB/s eta 0:00:01\n",
            "   ------------------------------------ --- 10.5/11.5 MB 3.6 MB/s eta 0:00:01\n",
            "   ------------------------------------- -- 10.6/11.5 MB 3.6 MB/s eta 0:00:01\n",
            "   ------------------------------------- -- 10.7/11.5 MB 3.6 MB/s eta 0:00:01\n",
            "   ------------------------------------- -- 10.8/11.5 MB 3.5 MB/s eta 0:00:01\n",
            "   -------------------------------------- - 11.0/11.5 MB 3.5 MB/s eta 0:00:01\n",
            "   -------------------------------------- - 11.2/11.5 MB 3.5 MB/s eta 0:00:01\n",
            "   ---------------------------------------  11.3/11.5 MB 3.5 MB/s eta 0:00:01\n",
            "   ---------------------------------------  11.5/11.5 MB 3.5 MB/s eta 0:00:01\n",
            "   ---------------------------------------- 11.5/11.5 MB 3.4 MB/s eta 0:00:00\n",
            "Downloading pytz-2024.1-py2.py3-none-any.whl (505 kB)\n",
            "   ---------------------------------------- 0.0/505.5 kB ? eta -:--:--\n",
            "   ---- ----------------------------------- 61.4/505.5 kB 3.4 MB/s eta 0:00:01\n",
            "   ----------------- ---------------------- 225.3/505.5 kB 3.5 MB/s eta 0:00:01\n",
            "   ----------------------------- ---------- 378.9/505.5 kB 3.4 MB/s eta 0:00:01\n",
            "   ---------------------------------------  501.8/505.5 kB 3.2 MB/s eta 0:00:01\n",
            "   ---------------------------------------- 505.5/505.5 kB 2.9 MB/s eta 0:00:00\n",
            "Downloading tzdata-2024.1-py2.py3-none-any.whl (345 kB)\n",
            "   ---------------------------------------- 0.0/345.4 kB ? eta -:--:--\n",
            "   ------------------ --------------------- 163.8/345.4 kB 5.0 MB/s eta 0:00:01\n",
            "   --------------------------------- ------ 286.7/345.4 kB 3.5 MB/s eta 0:00:01\n",
            "   ---------------------------------------- 345.4/345.4 kB 3.1 MB/s eta 0:00:00\n",
            "Installing collected packages: pytz, tzdata, pandas\n",
            "Successfully installed pandas-2.2.2 pytz-2024.1 tzdata-2024.1\n"
          ]
        }
      ],
      "source": [
        "pip install pandas"
      ]
    },
    {
      "cell_type": "code",
      "execution_count": 3,
      "metadata": {
        "colab": {
          "base_uri": "https://localhost:8080/",
          "height": 206
        },
        "id": "GcS_ntVdFdMj",
        "outputId": "67790818-7da7-4fda-befe-571a08cb2a8c"
      },
      "outputs": [
        {
          "data": {
            "text/html": [
              "<div>\n",
              "<style scoped>\n",
              "    .dataframe tbody tr th:only-of-type {\n",
              "        vertical-align: middle;\n",
              "    }\n",
              "\n",
              "    .dataframe tbody tr th {\n",
              "        vertical-align: top;\n",
              "    }\n",
              "\n",
              "    .dataframe thead th {\n",
              "        text-align: right;\n",
              "    }\n",
              "</style>\n",
              "<table border=\"1\" class=\"dataframe\">\n",
              "  <thead>\n",
              "    <tr style=\"text-align: right;\">\n",
              "      <th></th>\n",
              "      <th>userId</th>\n",
              "      <th>movieId</th>\n",
              "      <th>rating</th>\n",
              "      <th>timestamp</th>\n",
              "    </tr>\n",
              "  </thead>\n",
              "  <tbody>\n",
              "    <tr>\n",
              "      <th>0</th>\n",
              "      <td>1</td>\n",
              "      <td>296</td>\n",
              "      <td>5.0</td>\n",
              "      <td>1147880044</td>\n",
              "    </tr>\n",
              "    <tr>\n",
              "      <th>1</th>\n",
              "      <td>1</td>\n",
              "      <td>306</td>\n",
              "      <td>3.5</td>\n",
              "      <td>1147868817</td>\n",
              "    </tr>\n",
              "    <tr>\n",
              "      <th>2</th>\n",
              "      <td>1</td>\n",
              "      <td>307</td>\n",
              "      <td>5.0</td>\n",
              "      <td>1147868828</td>\n",
              "    </tr>\n",
              "    <tr>\n",
              "      <th>3</th>\n",
              "      <td>1</td>\n",
              "      <td>665</td>\n",
              "      <td>5.0</td>\n",
              "      <td>1147878820</td>\n",
              "    </tr>\n",
              "    <tr>\n",
              "      <th>4</th>\n",
              "      <td>1</td>\n",
              "      <td>899</td>\n",
              "      <td>3.5</td>\n",
              "      <td>1147868510</td>\n",
              "    </tr>\n",
              "  </tbody>\n",
              "</table>\n",
              "</div>"
            ],
            "text/plain": [
              "   userId  movieId  rating   timestamp\n",
              "0       1      296     5.0  1147880044\n",
              "1       1      306     3.5  1147868817\n",
              "2       1      307     5.0  1147868828\n",
              "3       1      665     5.0  1147878820\n",
              "4       1      899     3.5  1147868510"
            ]
          },
          "execution_count": 3,
          "metadata": {},
          "output_type": "execute_result"
        }
      ],
      "source": [
        "import math\n",
        "import matplotlib.pyplot as plt\n",
        "import numpy as np\n",
        "import pandas as pd\n",
        "from pylab import rcParams\n",
        "# movies = pd.read_csv(\"/content/drive/My Drive/movielen/movies.csv\", header=0)\n",
        "# ratings = pd.read_csv(\"/content/drive/My Drive/movielen/ratings.csv\", header=0)\n",
        "movies = pd.read_csv('movies.csv', header=0)\n",
        "ratings = pd.read_csv('ratings.csv', header=0)\n",
        "ratings.head()"
      ]
    },
    {
      "cell_type": "code",
      "execution_count": 2,
      "metadata": {
        "colab": {
          "base_uri": "https://localhost:8080/",
          "height": 206
        },
        "id": "TH_HIKnuGSNw",
        "outputId": "93c67a95-1dbc-433a-feec-54cb7b9bfdda"
      },
      "outputs": [
        {
          "data": {
            "text/html": [
              "<div>\n",
              "<style scoped>\n",
              "    .dataframe tbody tr th:only-of-type {\n",
              "        vertical-align: middle;\n",
              "    }\n",
              "\n",
              "    .dataframe tbody tr th {\n",
              "        vertical-align: top;\n",
              "    }\n",
              "\n",
              "    .dataframe thead th {\n",
              "        text-align: right;\n",
              "    }\n",
              "</style>\n",
              "<table border=\"1\" class=\"dataframe\">\n",
              "  <thead>\n",
              "    <tr style=\"text-align: right;\">\n",
              "      <th></th>\n",
              "      <th>movieId</th>\n",
              "      <th>title</th>\n",
              "      <th>year</th>\n",
              "    </tr>\n",
              "  </thead>\n",
              "  <tbody>\n",
              "    <tr>\n",
              "      <th>0</th>\n",
              "      <td>1</td>\n",
              "      <td>Toy Story</td>\n",
              "      <td>1995</td>\n",
              "    </tr>\n",
              "    <tr>\n",
              "      <th>1</th>\n",
              "      <td>2</td>\n",
              "      <td>Jumanji</td>\n",
              "      <td>1995</td>\n",
              "    </tr>\n",
              "    <tr>\n",
              "      <th>2</th>\n",
              "      <td>3</td>\n",
              "      <td>Grumpier Old Men</td>\n",
              "      <td>1995</td>\n",
              "    </tr>\n",
              "    <tr>\n",
              "      <th>3</th>\n",
              "      <td>4</td>\n",
              "      <td>Waiting to Exhale</td>\n",
              "      <td>1995</td>\n",
              "    </tr>\n",
              "    <tr>\n",
              "      <th>4</th>\n",
              "      <td>5</td>\n",
              "      <td>Father of the Bride Part II</td>\n",
              "      <td>1995</td>\n",
              "    </tr>\n",
              "  </tbody>\n",
              "</table>\n",
              "</div>"
            ],
            "text/plain": [
              "   movieId                        title  year\n",
              "0        1                    Toy Story  1995\n",
              "1        2                      Jumanji  1995\n",
              "2        3             Grumpier Old Men  1995\n",
              "3        4            Waiting to Exhale  1995\n",
              "4        5  Father of the Bride Part II  1995"
            ]
          },
          "execution_count": 2,
          "metadata": {},
          "output_type": "execute_result"
        }
      ],
      "source": [
        "movies['year'] = movies['title'].str.extract(r'\\((\\d{4})\\)')\n",
        "movies['title'] = movies['title'].str.replace(r'\\s*\\(\\d{4}\\)', '', regex=True)\n",
        "movies.drop(columns=['genres'], inplace=True) #droping the column\n",
        "\n",
        "movies.head()"
      ]
    },
    {
      "cell_type": "code",
      "execution_count": 3,
      "metadata": {
        "colab": {
          "base_uri": "https://localhost:8080/",
          "height": 206
        },
        "id": "nLVmwNdYG72c",
        "outputId": "00d13243-3eb4-4bbd-afb1-fee69e65ec39"
      },
      "outputs": [
        {
          "data": {
            "text/html": [
              "<div>\n",
              "<style scoped>\n",
              "    .dataframe tbody tr th:only-of-type {\n",
              "        vertical-align: middle;\n",
              "    }\n",
              "\n",
              "    .dataframe tbody tr th {\n",
              "        vertical-align: top;\n",
              "    }\n",
              "\n",
              "    .dataframe thead th {\n",
              "        text-align: right;\n",
              "    }\n",
              "</style>\n",
              "<table border=\"1\" class=\"dataframe\">\n",
              "  <thead>\n",
              "    <tr style=\"text-align: right;\">\n",
              "      <th></th>\n",
              "      <th>userId</th>\n",
              "      <th>movieId</th>\n",
              "      <th>rating</th>\n",
              "    </tr>\n",
              "  </thead>\n",
              "  <tbody>\n",
              "    <tr>\n",
              "      <th>0</th>\n",
              "      <td>1</td>\n",
              "      <td>296</td>\n",
              "      <td>5.0</td>\n",
              "    </tr>\n",
              "    <tr>\n",
              "      <th>1</th>\n",
              "      <td>1</td>\n",
              "      <td>306</td>\n",
              "      <td>3.5</td>\n",
              "    </tr>\n",
              "    <tr>\n",
              "      <th>2</th>\n",
              "      <td>1</td>\n",
              "      <td>307</td>\n",
              "      <td>5.0</td>\n",
              "    </tr>\n",
              "    <tr>\n",
              "      <th>3</th>\n",
              "      <td>1</td>\n",
              "      <td>665</td>\n",
              "      <td>5.0</td>\n",
              "    </tr>\n",
              "    <tr>\n",
              "      <th>4</th>\n",
              "      <td>1</td>\n",
              "      <td>899</td>\n",
              "      <td>3.5</td>\n",
              "    </tr>\n",
              "  </tbody>\n",
              "</table>\n",
              "</div>"
            ],
            "text/plain": [
              "   userId  movieId  rating\n",
              "0       1      296     5.0\n",
              "1       1      306     3.5\n",
              "2       1      307     5.0\n",
              "3       1      665     5.0\n",
              "4       1      899     3.5"
            ]
          },
          "execution_count": 3,
          "metadata": {},
          "output_type": "execute_result"
        }
      ],
      "source": [
        "ratings.drop(columns=['timestamp'], inplace=True) #droping column\n",
        "ratings.head()"
      ]
    },
    {
      "cell_type": "code",
      "execution_count": 4,
      "metadata": {
        "colab": {
          "base_uri": "https://localhost:8080/",
          "height": 206
        },
        "id": "n5zhabi1NsBn",
        "outputId": "e2484e66-8bce-4143-a86c-9b6dded60fa8"
      },
      "outputs": [
        {
          "data": {
            "text/html": [
              "<div>\n",
              "<style scoped>\n",
              "    .dataframe tbody tr th:only-of-type {\n",
              "        vertical-align: middle;\n",
              "    }\n",
              "\n",
              "    .dataframe tbody tr th {\n",
              "        vertical-align: top;\n",
              "    }\n",
              "\n",
              "    .dataframe thead th {\n",
              "        text-align: right;\n",
              "    }\n",
              "</style>\n",
              "<table border=\"1\" class=\"dataframe\">\n",
              "  <thead>\n",
              "    <tr style=\"text-align: right;\">\n",
              "      <th></th>\n",
              "      <th>title</th>\n",
              "      <th>rating</th>\n",
              "    </tr>\n",
              "  </thead>\n",
              "  <tbody>\n",
              "    <tr>\n",
              "      <th>0</th>\n",
              "      <td>Breakfast Club, The</td>\n",
              "      <td>4.0</td>\n",
              "    </tr>\n",
              "    <tr>\n",
              "      <th>1</th>\n",
              "      <td>Toy Story</td>\n",
              "      <td>2.5</td>\n",
              "    </tr>\n",
              "    <tr>\n",
              "      <th>2</th>\n",
              "      <td>Jumanji</td>\n",
              "      <td>3.0</td>\n",
              "    </tr>\n",
              "    <tr>\n",
              "      <th>3</th>\n",
              "      <td>Pulp Fiction</td>\n",
              "      <td>4.5</td>\n",
              "    </tr>\n",
              "    <tr>\n",
              "      <th>4</th>\n",
              "      <td>Akira</td>\n",
              "      <td>5.0</td>\n",
              "    </tr>\n",
              "  </tbody>\n",
              "</table>\n",
              "</div>"
            ],
            "text/plain": [
              "                 title  rating\n",
              "0  Breakfast Club, The     4.0\n",
              "1            Toy Story     2.5\n",
              "2              Jumanji     3.0\n",
              "3         Pulp Fiction     4.5\n",
              "4                Akira     5.0"
            ]
          },
          "execution_count": 4,
          "metadata": {},
          "output_type": "execute_result"
        }
      ],
      "source": [
        "# getting movie and their ratings\n",
        "user = [\n",
        "            {'title':'Breakfast Club, The', 'rating':4},\n",
        "            {'title':'Toy Story', 'rating':2.5},\n",
        "            {'title':'Jumanji', 'rating':3},\n",
        "            {'title':\"Pulp Fiction\", 'rating':4.5},\n",
        "            {'title':'Akira', 'rating':5}\n",
        "         ]\n",
        "inputMovie = pd.DataFrame(user)\n",
        "inputMovie"
      ]
    },
    {
      "cell_type": "code",
      "execution_count": 5,
      "metadata": {
        "colab": {
          "base_uri": "https://localhost:8080/",
          "height": 292
        },
        "id": "suvYXyoXNv1K",
        "outputId": "df153118-6a4e-447f-dc2d-fa9e6829e57a"
      },
      "outputs": [
        {
          "data": {
            "text/html": [
              "<div>\n",
              "<style scoped>\n",
              "    .dataframe tbody tr th:only-of-type {\n",
              "        vertical-align: middle;\n",
              "    }\n",
              "\n",
              "    .dataframe tbody tr th {\n",
              "        vertical-align: top;\n",
              "    }\n",
              "\n",
              "    .dataframe thead th {\n",
              "        text-align: right;\n",
              "    }\n",
              "</style>\n",
              "<table border=\"1\" class=\"dataframe\">\n",
              "  <thead>\n",
              "    <tr style=\"text-align: right;\">\n",
              "      <th></th>\n",
              "      <th>movieId</th>\n",
              "      <th>title</th>\n",
              "      <th>rating</th>\n",
              "    </tr>\n",
              "  </thead>\n",
              "  <tbody>\n",
              "    <tr>\n",
              "      <th>0</th>\n",
              "      <td>1</td>\n",
              "      <td>Toy Story</td>\n",
              "      <td>2.5</td>\n",
              "    </tr>\n",
              "    <tr>\n",
              "      <th>1</th>\n",
              "      <td>2</td>\n",
              "      <td>Jumanji</td>\n",
              "      <td>3.0</td>\n",
              "    </tr>\n",
              "    <tr>\n",
              "      <th>2</th>\n",
              "      <td>296</td>\n",
              "      <td>Pulp Fiction</td>\n",
              "      <td>4.5</td>\n",
              "    </tr>\n",
              "    <tr>\n",
              "      <th>3</th>\n",
              "      <td>1274</td>\n",
              "      <td>Akira</td>\n",
              "      <td>5.0</td>\n",
              "    </tr>\n",
              "    <tr>\n",
              "      <th>4</th>\n",
              "      <td>1968</td>\n",
              "      <td>Breakfast Club, The</td>\n",
              "      <td>4.0</td>\n",
              "    </tr>\n",
              "    <tr>\n",
              "      <th>5</th>\n",
              "      <td>164600</td>\n",
              "      <td>Akira</td>\n",
              "      <td>5.0</td>\n",
              "    </tr>\n",
              "  </tbody>\n",
              "</table>\n",
              "</div>"
            ],
            "text/plain": [
              "   movieId                title  rating\n",
              "0        1            Toy Story     2.5\n",
              "1        2              Jumanji     3.0\n",
              "2      296         Pulp Fiction     4.5\n",
              "3     1274                Akira     5.0\n",
              "4     1968  Breakfast Club, The     4.0\n",
              "5   164600                Akira     5.0"
            ]
          },
          "execution_count": 5,
          "metadata": {},
          "output_type": "execute_result"
        }
      ],
      "source": [
        "Id = movies[movies['title'].isin(inputMovie['title'].tolist())]\n",
        "#Then merging it so we can get the movieId. It's implicitly merging it by title.\n",
        "inputMovie = pd.merge(Id, inputMovie)\n",
        "#Dropping information we won't use from the input dataframe\n",
        "# inputMovie.drop('year', 1)\n",
        "inputMovie.drop(columns=['year'], inplace=True)\n",
        "inputMovie"
      ]
    },
    {
      "cell_type": "code",
      "execution_count": 6,
      "metadata": {
        "colab": {
          "base_uri": "https://localhost:8080/",
          "height": 206
        },
        "id": "anbh7zF5OXFu",
        "outputId": "01c178ea-66e3-4d98-8e27-64bfe4eae291"
      },
      "outputs": [
        {
          "data": {
            "text/html": [
              "<div>\n",
              "<style scoped>\n",
              "    .dataframe tbody tr th:only-of-type {\n",
              "        vertical-align: middle;\n",
              "    }\n",
              "\n",
              "    .dataframe tbody tr th {\n",
              "        vertical-align: top;\n",
              "    }\n",
              "\n",
              "    .dataframe thead th {\n",
              "        text-align: right;\n",
              "    }\n",
              "</style>\n",
              "<table border=\"1\" class=\"dataframe\">\n",
              "  <thead>\n",
              "    <tr style=\"text-align: right;\">\n",
              "      <th></th>\n",
              "      <th>userId</th>\n",
              "      <th>movieId</th>\n",
              "      <th>rating</th>\n",
              "    </tr>\n",
              "  </thead>\n",
              "  <tbody>\n",
              "    <tr>\n",
              "      <th>0</th>\n",
              "      <td>1</td>\n",
              "      <td>296</td>\n",
              "      <td>5.0</td>\n",
              "    </tr>\n",
              "    <tr>\n",
              "      <th>70</th>\n",
              "      <td>2</td>\n",
              "      <td>1</td>\n",
              "      <td>3.5</td>\n",
              "    </tr>\n",
              "    <tr>\n",
              "      <th>141</th>\n",
              "      <td>2</td>\n",
              "      <td>1968</td>\n",
              "      <td>1.0</td>\n",
              "    </tr>\n",
              "    <tr>\n",
              "      <th>254</th>\n",
              "      <td>3</td>\n",
              "      <td>1</td>\n",
              "      <td>4.0</td>\n",
              "    </tr>\n",
              "    <tr>\n",
              "      <th>264</th>\n",
              "      <td>3</td>\n",
              "      <td>296</td>\n",
              "      <td>5.0</td>\n",
              "    </tr>\n",
              "  </tbody>\n",
              "</table>\n",
              "</div>"
            ],
            "text/plain": [
              "     userId  movieId  rating\n",
              "0         1      296     5.0\n",
              "70        2        1     3.5\n",
              "141       2     1968     1.0\n",
              "254       3        1     4.0\n",
              "264       3      296     5.0"
            ]
          },
          "execution_count": 6,
          "metadata": {},
          "output_type": "execute_result"
        }
      ],
      "source": [
        "#Filtering out users that have watched movies that the input has watched and storing it\n",
        "users = ratings[ratings['movieId'].isin(inputMovie['movieId'].tolist())]\n",
        "users.head()"
      ]
    },
    {
      "cell_type": "code",
      "execution_count": 7,
      "metadata": {
        "colab": {
          "base_uri": "https://localhost:8080/"
        },
        "id": "3HMsUUFYPMwK",
        "outputId": "9bfa4343-6903-4bae-f495-34512bcfb614"
      },
      "outputs": [
        {
          "data": {
            "text/plain": [
              "(194464, 3)"
            ]
          },
          "execution_count": 7,
          "metadata": {},
          "output_type": "execute_result"
        }
      ],
      "source": [
        "users.shape"
      ]
    },
    {
      "cell_type": "code",
      "execution_count": 8,
      "metadata": {
        "id": "wxfuvmeWPTDA"
      },
      "outputs": [],
      "source": [
        "#Groupby creates several sub dataframes where they all have the same value in the column specified as the parameter\n",
        "#each group consists of all rows with the same value in the 'userId' column.\n",
        "userSubsetGroup = users.groupby(['userId'])"
      ]
    },
    {
      "cell_type": "code",
      "execution_count": 9,
      "metadata": {
        "colab": {
          "base_uri": "https://localhost:8080/",
          "height": 81
        },
        "id": "EhOuib8cPebV",
        "outputId": "4ef1f904-087b-457c-d12e-febd2ac6f40b"
      },
      "outputs": [
        {
          "name": "stderr",
          "output_type": "stream",
          "text": [
            "C:\\Users\\krgauravp\\AppData\\Local\\Temp\\ipykernel_14472\\1541534571.py:3: FutureWarning: When grouping with a length-1 list-like, you will need to pass a length-1 tuple to get_group in a future version of pandas. Pass `(name,)` instead of `name` to silence this warning.\n",
            "  userSubsetGroup.get_group(1)\n"
          ]
        },
        {
          "data": {
            "text/html": [
              "<div>\n",
              "<style scoped>\n",
              "    .dataframe tbody tr th:only-of-type {\n",
              "        vertical-align: middle;\n",
              "    }\n",
              "\n",
              "    .dataframe tbody tr th {\n",
              "        vertical-align: top;\n",
              "    }\n",
              "\n",
              "    .dataframe thead th {\n",
              "        text-align: right;\n",
              "    }\n",
              "</style>\n",
              "<table border=\"1\" class=\"dataframe\">\n",
              "  <thead>\n",
              "    <tr style=\"text-align: right;\">\n",
              "      <th></th>\n",
              "      <th>userId</th>\n",
              "      <th>movieId</th>\n",
              "      <th>rating</th>\n",
              "    </tr>\n",
              "  </thead>\n",
              "  <tbody>\n",
              "    <tr>\n",
              "      <th>0</th>\n",
              "      <td>1</td>\n",
              "      <td>296</td>\n",
              "      <td>5.0</td>\n",
              "    </tr>\n",
              "  </tbody>\n",
              "</table>\n",
              "</div>"
            ],
            "text/plain": [
              "   userId  movieId  rating\n",
              "0       1      296     5.0"
            ]
          },
          "execution_count": 9,
          "metadata": {},
          "output_type": "execute_result"
        }
      ],
      "source": [
        "#showing one such group example by getting all the users of a particular uderId\n",
        "#retrieves one of the groups from the userSubsetGroup based on the specified userId (in this case, userId 1)\n",
        "userSubsetGroup.get_group(1)"
      ]
    },
    {
      "cell_type": "code",
      "execution_count": 10,
      "metadata": {
        "colab": {
          "base_uri": "https://localhost:8080/"
        },
        "id": "R1EU9ZLrP3sB",
        "outputId": "6382a74f-4eb5-4bcb-abf7-d89dd014ce8b"
      },
      "outputs": [],
      "source": [
        "#Sorting it so users with movie most in common with the input will have priority\n",
        "#sorts the userSubsetGroup by the number of items in each group in descending order.\n",
        "# prioritize users who have rated the most movies in common with the input user\n",
        "userSubsetGroup = sorted(userSubsetGroup,  key=lambda x: len(x[1]), reverse=True)"
      ]
    },
    {
      "cell_type": "code",
      "execution_count": 11,
      "metadata": {
        "colab": {
          "base_uri": "https://localhost:8080/"
        },
        "id": "y9fhV6ohP_tR",
        "outputId": "3e4398cd-1e5a-486a-fc96-b78673ab77aa"
      },
      "outputs": [
        {
          "data": {
            "text/plain": [
              "[((43,),\n",
              "        userId  movieId  rating\n",
              "  5858      43        1     4.0\n",
              "  5859      43        2     3.5\n",
              "  5884      43      296     5.0\n",
              "  5974      43     1274     4.5\n",
              "  6018      43     1968     4.5),\n",
              " ((171,),\n",
              "         userId  movieId  rating\n",
              "  20794     171        1     4.5\n",
              "  20795     171        2     4.0\n",
              "  20833     171      296     5.0\n",
              "  20973     171     1274     4.0\n",
              "  21047     171     1968     4.0),\n",
              " ((440,),\n",
              "         userId  movieId  rating\n",
              "  54640     440        1     3.5\n",
              "  54641     440        2     2.0\n",
              "  54669     440      296     5.0\n",
              "  54756     440     1274     5.0\n",
              "  54798     440     1968     4.5)]"
            ]
          },
          "execution_count": 11,
          "metadata": {},
          "output_type": "execute_result"
        }
      ],
      "source": [
        "#retrieves the first three elements (groups) of the sorted userSubsetGroup, presumably to focus on the top three users with the most movies rated in common with the input user.\n",
        "userSubsetGroup[0:3]"
      ]
    },
    {
      "cell_type": "code",
      "execution_count": null,
      "metadata": {
        "id": "_3WSnM_kQGdy"
      },
      "outputs": [],
      "source": [
        "userSubsetGroup = userSubsetGroup[0:100]"
      ]
    },
    {
      "cell_type": "code",
      "execution_count": 18,
      "metadata": {
        "id": "IdPWzRKOQIED"
      },
      "outputs": [],
      "source": [
        "import numpy as np\n",
        "import pandas as pd\n",
        "from math import sqrt\n",
        "import matplotlib.pyplot as plt\n",
        "%matplotlib inline\n",
        "#Store the Pearson Correlation in a dictionary, where the key is the user Id and the value is the coefficient\n",
        "pearsonCorDict = {} #empty dictionary \n",
        "#Pearson correlation coefficient between an input user and each user group in a user subset\n",
        "\n",
        "#For every user group in our subset\n",
        "for name, group in userSubsetGroup:\n",
        "    #Let's start by sorting the input and current user group so the values aren't mixed up later on\n",
        "    group = group.sort_values(by='movieId') #Sorts the current user group by 'movieId'.\n",
        "    inputMovie = inputMovie.sort_values(by='movieId') # Sorts the input movie DataFrame by 'movieId'.\n",
        "    #Get the N for the formula\n",
        "    n = len(group) #Gets the number of common movies between the input user and the current user group.\n",
        "    #Get the review scores for the movies that they both have in common\n",
        "    #Selects the rows from the input movie DataFrame where the 'movieId' matches with the current user group's movie IDs.\n",
        "    temp = inputMovie[inputMovie['movieId'].isin(group['movieId'].tolist())]\n",
        "    #And then store them in a temporary buffer variable in a list format to facilitate future calculations\n",
        "    \n",
        "    tempRatingList = temp['rating'].tolist()\n",
        "    #put the current user group reviews in a list format\n",
        "    #Stores the ratings of the current user group for common movies in a list.\n",
        "    tempGroupList = group['rating'].tolist()\n",
        "    #Now let's calculate the pearson correlation between two users, so called, x and y\n",
        "    Sxx = sum([i**2 for i in tempRatingList]) - pow(sum(tempRatingList),2)/float(n)\n",
        "    Syy = sum([i**2 for i in tempGroupList]) - pow(sum(tempGroupList),2)/float(n)\n",
        "    Sxy = sum( i*j for i, j in zip(tempRatingList, tempGroupList)) - sum(tempRatingList)*sum(tempGroupList)/float(n)\n",
        "\n",
        "    #If the denominator is different than zero, then divide, else, 0 correlation.\n",
        "    if Sxx != 0 and Syy != 0:\n",
        "        pearsonCorDict[name] = Sxy/sqrt(Sxx*Syy)\n",
        "    else:\n",
        "        pearsonCorDict[name] = 0"
      ]
    },
    {
      "cell_type": "code",
      "execution_count": 19,
      "metadata": {
        "colab": {
          "base_uri": "https://localhost:8080/"
        },
        "id": "fTsnG7FRQcqv",
        "outputId": "ac2c790b-5595-42f5-e79e-53b0056de243"
      },
      "outputs": [
        {
          "data": {
            "text/plain": [
              "dict_items([((43,), 0.7613188819880644), ((171,), 0.026958193300858132), ((440,), 0.8038925870986305), ((597,), 0.0864585626556345), ((695,), 0.4313310928137531), ((757,), 0.835703992326648), ((772,), -0.017972128867238715), ((860,), 0.6827688932004732), ((939,), 0.39620290784653284), ((1203,), -0.018630665602665512), ((1242,), 0.46107317554294897), ((1401,), -0.14794534429106385), ((1652,), -0.1760901812651271), ((1894,), 0.444102681159703), ((1977,), -0.6105716541821835), ((2345,), -0.07188851546896004), ((2429,), 0.3774147062120368), ((2469,), 0.28614654455582733), ((2640,), -0.4068496968004207), ((2766,), -0.700913025822351), ((2982,), 0.09457559848219182), ((3150,), 0.17049858486761843), ((3266,), 0.37741470621203427), ((3272,), 0.6896865432884035), ((3274,), -0.26413527189768443), ((3624,), 0.14118624160050217), ((3660,), 0.9097992698698094), ((3760,), 0.057639041770424365), ((4006,), -0.26413527189768443), ((4019,), -0.0325128044381159), ((4060,), 0.4928713255803919), ((4246,), 0.9244734516419016), ((4410,), 0.5364612732289447), ((4420,), 0.4313310928137531), ((4459,), 0.7646682993124689), ((4675,), -0.1760901812651271), ((4975,), 0.6769381383324209), ((5114,), -0.07624928516630236), ((5339,), 0.34099716973523686), ((5388,), 0.37741470621203593), ((5470,), 0.6661540217395575), ((5784,), -0.7263719977186395), ((5838,), 0), ((5860,), 0.29261523994306154), ((6063,), 0.8119133972727369), ((6118,), -0.4313310928137531), ((6244,), -0.7190233885442854), ((6258,), 0.7781270639007126), ((6272,), 0.9510441892119871), ((6348,), 0.48424799847909017), ((6353,), 0.6827688932004708), ((6452,), 0.6628489803598724), ((6497,), 0.6890618270883883), ((6505,), -0.2326252139407966), ((6532,), 0.14794534429106138), ((6550,), 0.6264518021884178), ((6558,), -0.10665423756369567), ((6773,), 0.8367179328930429), ((7108,), 0.19899925141142696), ((7288,), -0.8950094866952748), ((7403,), 0.0), ((7490,), 0.8108528259548389), ((7566,), -0.48424799847909017), ((7571,), 0.5654798332924573), ((7723,), 0.8524929243380921), ((7757,), 0.049477069599530084), ((7766,), 0.11366572324507894), ((7903,), 0.2017366461964786), ((8375,), 0.4899318550485956), ((8619,), 0.27842302319485235), ((8804,), 0.7771889263740438), ((8932,), 0.5519691272882647), ((8946,), 0.1617491598051588), ((9022,), 0.5114957546028552), ((9522,), -0.17609018126512527), ((9539,), -0.64699663922062), ((9678,), 0.9244734516419071), ((9809,), 0.1748898252059448), ((9835,), -0.07785470932752292), ((9852,), -0.24262373970773848), ((10033,), 0.359850803004291), ((10045,), -0.09435367655300707), ((10106,), 0.3774147062120368), ((10115,), 0.970494958830946), ((10287,), 0.37741470621203593), ((10325,), 0.2757767158101437), ((10348,), 0.4313310928137531), ((10493,), 0.21994654103368116), ((10496,), 0.8069465847859308), ((10633,), -0.02114774672188951), ((10675,), 0.6102745452006318), ((10764,), 0.1858261556206655), ((10808,), 0.29531221160930926), ((10904,), 0.3910655377335508), ((10960,), 0.5654798332924573), ((11074,), 0.02695819330085807), ((11144,), 0.296540126309456), ((11258,), 0.37465377150775536), ((11312,), 0.10783277320343994), ((11495,), 0.6993160471563451)])"
            ]
          },
          "execution_count": 19,
          "metadata": {},
          "output_type": "execute_result"
        }
      ],
      "source": [
        "pearsonCorDict.items()"
      ]
    },
    {
      "cell_type": "code",
      "execution_count": 20,
      "metadata": {
        "colab": {
          "base_uri": "https://localhost:8080/",
          "height": 206
        },
        "id": "fgTuz0UQQhe8",
        "outputId": "d5de1645-d8ea-4992-ed60-9f9deb21a566"
      },
      "outputs": [
        {
          "data": {
            "text/html": [
              "<div>\n",
              "<style scoped>\n",
              "    .dataframe tbody tr th:only-of-type {\n",
              "        vertical-align: middle;\n",
              "    }\n",
              "\n",
              "    .dataframe tbody tr th {\n",
              "        vertical-align: top;\n",
              "    }\n",
              "\n",
              "    .dataframe thead th {\n",
              "        text-align: right;\n",
              "    }\n",
              "</style>\n",
              "<table border=\"1\" class=\"dataframe\">\n",
              "  <thead>\n",
              "    <tr style=\"text-align: right;\">\n",
              "      <th></th>\n",
              "      <th>similarityIndex</th>\n",
              "      <th>userId</th>\n",
              "    </tr>\n",
              "  </thead>\n",
              "  <tbody>\n",
              "    <tr>\n",
              "      <th>0</th>\n",
              "      <td>0.761319</td>\n",
              "      <td>(43,)</td>\n",
              "    </tr>\n",
              "    <tr>\n",
              "      <th>1</th>\n",
              "      <td>0.026958</td>\n",
              "      <td>(171,)</td>\n",
              "    </tr>\n",
              "    <tr>\n",
              "      <th>2</th>\n",
              "      <td>0.803893</td>\n",
              "      <td>(440,)</td>\n",
              "    </tr>\n",
              "    <tr>\n",
              "      <th>3</th>\n",
              "      <td>0.086459</td>\n",
              "      <td>(597,)</td>\n",
              "    </tr>\n",
              "    <tr>\n",
              "      <th>4</th>\n",
              "      <td>0.431331</td>\n",
              "      <td>(695,)</td>\n",
              "    </tr>\n",
              "  </tbody>\n",
              "</table>\n",
              "</div>"
            ],
            "text/plain": [
              "   similarityIndex  userId\n",
              "0         0.761319   (43,)\n",
              "1         0.026958  (171,)\n",
              "2         0.803893  (440,)\n",
              "3         0.086459  (597,)\n",
              "4         0.431331  (695,)"
            ]
          },
          "execution_count": 20,
          "metadata": {},
          "output_type": "execute_result"
        }
      ],
      "source": [
        "pearsonDF = pd.DataFrame.from_dict(pearsonCorDict, orient='index')\n",
        "pearsonDF.columns = ['similarityIndex']\n",
        "pearsonDF['userId'] = pearsonDF.index\n",
        "pearsonDF.index = range(len(pearsonDF))\n",
        "pearsonDF.head()"
      ]
    },
    {
      "cell_type": "code",
      "execution_count": 26,
      "metadata": {
        "colab": {
          "base_uri": "https://localhost:8080/",
          "height": 206
        },
        "id": "Zp3b2uD3QmAf",
        "outputId": "8b04ce53-21d8-4b0c-ccd0-8d04e0c0020a"
      },
      "outputs": [
        {
          "data": {
            "text/html": [
              "<div>\n",
              "<style scoped>\n",
              "    .dataframe tbody tr th:only-of-type {\n",
              "        vertical-align: middle;\n",
              "    }\n",
              "\n",
              "    .dataframe tbody tr th {\n",
              "        vertical-align: top;\n",
              "    }\n",
              "\n",
              "    .dataframe thead th {\n",
              "        text-align: right;\n",
              "    }\n",
              "</style>\n",
              "<table border=\"1\" class=\"dataframe\">\n",
              "  <thead>\n",
              "    <tr style=\"text-align: right;\">\n",
              "      <th></th>\n",
              "      <th>similarityIndex</th>\n",
              "      <th>userId</th>\n",
              "    </tr>\n",
              "  </thead>\n",
              "  <tbody>\n",
              "    <tr>\n",
              "      <th>83</th>\n",
              "      <td>0.970495</td>\n",
              "      <td>10115</td>\n",
              "    </tr>\n",
              "    <tr>\n",
              "      <th>48</th>\n",
              "      <td>0.951044</td>\n",
              "      <td>6272</td>\n",
              "    </tr>\n",
              "    <tr>\n",
              "      <th>76</th>\n",
              "      <td>0.924473</td>\n",
              "      <td>9678</td>\n",
              "    </tr>\n",
              "    <tr>\n",
              "      <th>31</th>\n",
              "      <td>0.924473</td>\n",
              "      <td>4246</td>\n",
              "    </tr>\n",
              "    <tr>\n",
              "      <th>26</th>\n",
              "      <td>0.909799</td>\n",
              "      <td>3660</td>\n",
              "    </tr>\n",
              "  </tbody>\n",
              "</table>\n",
              "</div>"
            ],
            "text/plain": [
              "    similarityIndex  userId\n",
              "83         0.970495   10115\n",
              "48         0.951044    6272\n",
              "76         0.924473    9678\n",
              "31         0.924473    4246\n",
              "26         0.909799    3660"
            ]
          },
          "execution_count": 26,
          "metadata": {},
          "output_type": "execute_result"
        }
      ],
      "source": [
        "topUsers=pearsonDF.sort_values(by='similarityIndex', ascending=False)[0:50]\n",
        "topUsers['userId'] = topUsers['userId'].apply(lambda x: x[0])\n",
        "topUsers.head()"
      ]
    },
    {
      "cell_type": "code",
      "execution_count": 30,
      "metadata": {
        "colab": {
          "base_uri": "https://localhost:8080/",
          "height": 206
        },
        "id": "Zo8gLb8eQp7m",
        "outputId": "44936c96-2db3-4aa4-fccc-a2c9cbc86630"
      },
      "outputs": [
        {
          "data": {
            "text/html": [
              "<div>\n",
              "<style scoped>\n",
              "    .dataframe tbody tr th:only-of-type {\n",
              "        vertical-align: middle;\n",
              "    }\n",
              "\n",
              "    .dataframe tbody tr th {\n",
              "        vertical-align: top;\n",
              "    }\n",
              "\n",
              "    .dataframe thead th {\n",
              "        text-align: right;\n",
              "    }\n",
              "</style>\n",
              "<table border=\"1\" class=\"dataframe\">\n",
              "  <thead>\n",
              "    <tr style=\"text-align: right;\">\n",
              "      <th></th>\n",
              "      <th>similarityIndex</th>\n",
              "      <th>userId</th>\n",
              "      <th>movieId</th>\n",
              "      <th>rating</th>\n",
              "    </tr>\n",
              "  </thead>\n",
              "  <tbody>\n",
              "    <tr>\n",
              "      <th>0</th>\n",
              "      <td>0.970495</td>\n",
              "      <td>10115</td>\n",
              "      <td>1</td>\n",
              "      <td>2.0</td>\n",
              "    </tr>\n",
              "    <tr>\n",
              "      <th>1</th>\n",
              "      <td>0.970495</td>\n",
              "      <td>10115</td>\n",
              "      <td>2</td>\n",
              "      <td>2.5</td>\n",
              "    </tr>\n",
              "    <tr>\n",
              "      <th>2</th>\n",
              "      <td>0.970495</td>\n",
              "      <td>10115</td>\n",
              "      <td>3</td>\n",
              "      <td>2.5</td>\n",
              "    </tr>\n",
              "    <tr>\n",
              "      <th>3</th>\n",
              "      <td>0.970495</td>\n",
              "      <td>10115</td>\n",
              "      <td>6</td>\n",
              "      <td>3.5</td>\n",
              "    </tr>\n",
              "    <tr>\n",
              "      <th>4</th>\n",
              "      <td>0.970495</td>\n",
              "      <td>10115</td>\n",
              "      <td>10</td>\n",
              "      <td>3.0</td>\n",
              "    </tr>\n",
              "  </tbody>\n",
              "</table>\n",
              "</div>"
            ],
            "text/plain": [
              "   similarityIndex  userId  movieId  rating\n",
              "0         0.970495   10115        1     2.0\n",
              "1         0.970495   10115        2     2.5\n",
              "2         0.970495   10115        3     2.5\n",
              "3         0.970495   10115        6     3.5\n",
              "4         0.970495   10115       10     3.0"
            ]
          },
          "execution_count": 30,
          "metadata": {},
          "output_type": "execute_result"
        }
      ],
      "source": [
        "# topUsersRating=topUsers.concat(ratings, left_on='userId', right_on='userId', how='inner')\n",
        "# topUsersRating = pd.concat([topUsers, ratings], axis=1)\n",
        "topUsersRating = pd.merge(topUsers, ratings, on='userId', how='inner')\n",
        "topUsersRating.head()"
      ]
    },
    {
      "cell_type": "code",
      "execution_count": 31,
      "metadata": {
        "colab": {
          "base_uri": "https://localhost:8080/",
          "height": 206
        },
        "id": "WhG_oUtsQv_o",
        "outputId": "d8698d08-82dd-4338-db6f-bc13687a2305"
      },
      "outputs": [
        {
          "data": {
            "text/html": [
              "<div>\n",
              "<style scoped>\n",
              "    .dataframe tbody tr th:only-of-type {\n",
              "        vertical-align: middle;\n",
              "    }\n",
              "\n",
              "    .dataframe tbody tr th {\n",
              "        vertical-align: top;\n",
              "    }\n",
              "\n",
              "    .dataframe thead th {\n",
              "        text-align: right;\n",
              "    }\n",
              "</style>\n",
              "<table border=\"1\" class=\"dataframe\">\n",
              "  <thead>\n",
              "    <tr style=\"text-align: right;\">\n",
              "      <th></th>\n",
              "      <th>similarityIndex</th>\n",
              "      <th>userId</th>\n",
              "      <th>movieId</th>\n",
              "      <th>rating</th>\n",
              "      <th>weightedRating</th>\n",
              "    </tr>\n",
              "  </thead>\n",
              "  <tbody>\n",
              "    <tr>\n",
              "      <th>0</th>\n",
              "      <td>0.970495</td>\n",
              "      <td>10115</td>\n",
              "      <td>1</td>\n",
              "      <td>2.0</td>\n",
              "      <td>1.940990</td>\n",
              "    </tr>\n",
              "    <tr>\n",
              "      <th>1</th>\n",
              "      <td>0.970495</td>\n",
              "      <td>10115</td>\n",
              "      <td>2</td>\n",
              "      <td>2.5</td>\n",
              "      <td>2.426237</td>\n",
              "    </tr>\n",
              "    <tr>\n",
              "      <th>2</th>\n",
              "      <td>0.970495</td>\n",
              "      <td>10115</td>\n",
              "      <td>3</td>\n",
              "      <td>2.5</td>\n",
              "      <td>2.426237</td>\n",
              "    </tr>\n",
              "    <tr>\n",
              "      <th>3</th>\n",
              "      <td>0.970495</td>\n",
              "      <td>10115</td>\n",
              "      <td>6</td>\n",
              "      <td>3.5</td>\n",
              "      <td>3.396732</td>\n",
              "    </tr>\n",
              "    <tr>\n",
              "      <th>4</th>\n",
              "      <td>0.970495</td>\n",
              "      <td>10115</td>\n",
              "      <td>10</td>\n",
              "      <td>3.0</td>\n",
              "      <td>2.911485</td>\n",
              "    </tr>\n",
              "  </tbody>\n",
              "</table>\n",
              "</div>"
            ],
            "text/plain": [
              "   similarityIndex  userId  movieId  rating  weightedRating\n",
              "0         0.970495   10115        1     2.0        1.940990\n",
              "1         0.970495   10115        2     2.5        2.426237\n",
              "2         0.970495   10115        3     2.5        2.426237\n",
              "3         0.970495   10115        6     3.5        3.396732\n",
              "4         0.970495   10115       10     3.0        2.911485"
            ]
          },
          "execution_count": 31,
          "metadata": {},
          "output_type": "execute_result"
        }
      ],
      "source": [
        "#Multiplies the similarity by the user's ratings\n",
        "topUsersRating['weightedRating'] = topUsersRating['similarityIndex']*topUsersRating['rating']\n",
        "topUsersRating.head()"
      ]
    },
    {
      "cell_type": "code",
      "execution_count": 32,
      "metadata": {
        "colab": {
          "base_uri": "https://localhost:8080/",
          "height": 237
        },
        "id": "BEGDWxLRQ8TS",
        "outputId": "a1a1f7b3-a18f-4a3b-af20-951d444a51b2"
      },
      "outputs": [
        {
          "data": {
            "text/html": [
              "<div>\n",
              "<style scoped>\n",
              "    .dataframe tbody tr th:only-of-type {\n",
              "        vertical-align: middle;\n",
              "    }\n",
              "\n",
              "    .dataframe tbody tr th {\n",
              "        vertical-align: top;\n",
              "    }\n",
              "\n",
              "    .dataframe thead th {\n",
              "        text-align: right;\n",
              "    }\n",
              "</style>\n",
              "<table border=\"1\" class=\"dataframe\">\n",
              "  <thead>\n",
              "    <tr style=\"text-align: right;\">\n",
              "      <th></th>\n",
              "      <th>sum_similarityIndex</th>\n",
              "      <th>sum_weightedRating</th>\n",
              "    </tr>\n",
              "    <tr>\n",
              "      <th>movieId</th>\n",
              "      <th></th>\n",
              "      <th></th>\n",
              "    </tr>\n",
              "  </thead>\n",
              "  <tbody>\n",
              "    <tr>\n",
              "      <th>1</th>\n",
              "      <td>30.649868</td>\n",
              "      <td>105.709316</td>\n",
              "    </tr>\n",
              "    <tr>\n",
              "      <th>2</th>\n",
              "      <td>30.649868</td>\n",
              "      <td>84.694423</td>\n",
              "    </tr>\n",
              "    <tr>\n",
              "      <th>3</th>\n",
              "      <td>5.168702</td>\n",
              "      <td>14.334375</td>\n",
              "    </tr>\n",
              "    <tr>\n",
              "      <th>4</th>\n",
              "      <td>0.511496</td>\n",
              "      <td>1.022992</td>\n",
              "    </tr>\n",
              "    <tr>\n",
              "      <th>5</th>\n",
              "      <td>6.395879</td>\n",
              "      <td>12.636669</td>\n",
              "    </tr>\n",
              "  </tbody>\n",
              "</table>\n",
              "</div>"
            ],
            "text/plain": [
              "         sum_similarityIndex  sum_weightedRating\n",
              "movieId                                         \n",
              "1                  30.649868          105.709316\n",
              "2                  30.649868           84.694423\n",
              "3                   5.168702           14.334375\n",
              "4                   0.511496            1.022992\n",
              "5                   6.395879           12.636669"
            ]
          },
          "execution_count": 32,
          "metadata": {},
          "output_type": "execute_result"
        }
      ],
      "source": [
        "#Applies a sum to the topUsers after grouping it up by userId\n",
        "tempTopUsersRating = topUsersRating.groupby('movieId').sum()[['similarityIndex','weightedRating']]\n",
        "tempTopUsersRating.columns = ['sum_similarityIndex','sum_weightedRating']\n",
        "tempTopUsersRating.head()"
      ]
    },
    {
      "cell_type": "code",
      "execution_count": 33,
      "metadata": {
        "colab": {
          "base_uri": "https://localhost:8080/",
          "height": 237
        },
        "id": "uBSbkUnfRAX8",
        "outputId": "5f1cae45-768c-4a91-8a80-c71da40a891b"
      },
      "outputs": [
        {
          "data": {
            "text/html": [
              "<div>\n",
              "<style scoped>\n",
              "    .dataframe tbody tr th:only-of-type {\n",
              "        vertical-align: middle;\n",
              "    }\n",
              "\n",
              "    .dataframe tbody tr th {\n",
              "        vertical-align: top;\n",
              "    }\n",
              "\n",
              "    .dataframe thead th {\n",
              "        text-align: right;\n",
              "    }\n",
              "</style>\n",
              "<table border=\"1\" class=\"dataframe\">\n",
              "  <thead>\n",
              "    <tr style=\"text-align: right;\">\n",
              "      <th></th>\n",
              "      <th>weighted average recommendation score</th>\n",
              "      <th>movieId</th>\n",
              "    </tr>\n",
              "    <tr>\n",
              "      <th>movieId</th>\n",
              "      <th></th>\n",
              "      <th></th>\n",
              "    </tr>\n",
              "  </thead>\n",
              "  <tbody>\n",
              "    <tr>\n",
              "      <th>1</th>\n",
              "      <td>3.448932</td>\n",
              "      <td>1</td>\n",
              "    </tr>\n",
              "    <tr>\n",
              "      <th>2</th>\n",
              "      <td>2.763288</td>\n",
              "      <td>2</td>\n",
              "    </tr>\n",
              "    <tr>\n",
              "      <th>3</th>\n",
              "      <td>2.773303</td>\n",
              "      <td>3</td>\n",
              "    </tr>\n",
              "    <tr>\n",
              "      <th>4</th>\n",
              "      <td>2.000000</td>\n",
              "      <td>4</td>\n",
              "    </tr>\n",
              "    <tr>\n",
              "      <th>5</th>\n",
              "      <td>1.975752</td>\n",
              "      <td>5</td>\n",
              "    </tr>\n",
              "  </tbody>\n",
              "</table>\n",
              "</div>"
            ],
            "text/plain": [
              "         weighted average recommendation score  movieId\n",
              "movieId                                                \n",
              "1                                     3.448932        1\n",
              "2                                     2.763288        2\n",
              "3                                     2.773303        3\n",
              "4                                     2.000000        4\n",
              "5                                     1.975752        5"
            ]
          },
          "execution_count": 33,
          "metadata": {},
          "output_type": "execute_result"
        }
      ],
      "source": [
        "#Creates an empty dataframe\n",
        "recommendation_df = pd.DataFrame()\n",
        "#Now we take the weighted average\n",
        "recommendation_df['weighted average recommendation score'] = tempTopUsersRating['sum_weightedRating']/tempTopUsersRating['sum_similarityIndex']\n",
        "recommendation_df['movieId'] = tempTopUsersRating.index\n",
        "recommendation_df.head()"
      ]
    },
    {
      "cell_type": "code",
      "execution_count": 34,
      "metadata": {
        "colab": {
          "base_uri": "https://localhost:8080/",
          "height": 394
        },
        "id": "Wrs8Wtm5REX2",
        "outputId": "89fe3930-3ab6-412d-d968-e4a8dfd895d6"
      },
      "outputs": [
        {
          "data": {
            "text/html": [
              "<div>\n",
              "<style scoped>\n",
              "    .dataframe tbody tr th:only-of-type {\n",
              "        vertical-align: middle;\n",
              "    }\n",
              "\n",
              "    .dataframe tbody tr th {\n",
              "        vertical-align: top;\n",
              "    }\n",
              "\n",
              "    .dataframe thead th {\n",
              "        text-align: right;\n",
              "    }\n",
              "</style>\n",
              "<table border=\"1\" class=\"dataframe\">\n",
              "  <thead>\n",
              "    <tr style=\"text-align: right;\">\n",
              "      <th></th>\n",
              "      <th>weighted average recommendation score</th>\n",
              "      <th>movieId</th>\n",
              "    </tr>\n",
              "    <tr>\n",
              "      <th>movieId</th>\n",
              "      <th></th>\n",
              "      <th></th>\n",
              "    </tr>\n",
              "  </thead>\n",
              "  <tbody>\n",
              "    <tr>\n",
              "      <th>7215</th>\n",
              "      <td>5.0</td>\n",
              "      <td>7215</td>\n",
              "    </tr>\n",
              "    <tr>\n",
              "      <th>111778</th>\n",
              "      <td>5.0</td>\n",
              "      <td>111778</td>\n",
              "    </tr>\n",
              "    <tr>\n",
              "      <th>171495</th>\n",
              "      <td>5.0</td>\n",
              "      <td>171495</td>\n",
              "    </tr>\n",
              "    <tr>\n",
              "      <th>26231</th>\n",
              "      <td>5.0</td>\n",
              "      <td>26231</td>\n",
              "    </tr>\n",
              "    <tr>\n",
              "      <th>6257</th>\n",
              "      <td>5.0</td>\n",
              "      <td>6257</td>\n",
              "    </tr>\n",
              "    <tr>\n",
              "      <th>831</th>\n",
              "      <td>5.0</td>\n",
              "      <td>831</td>\n",
              "    </tr>\n",
              "    <tr>\n",
              "      <th>26094</th>\n",
              "      <td>5.0</td>\n",
              "      <td>26094</td>\n",
              "    </tr>\n",
              "    <tr>\n",
              "      <th>26090</th>\n",
              "      <td>5.0</td>\n",
              "      <td>26090</td>\n",
              "    </tr>\n",
              "    <tr>\n",
              "      <th>213</th>\n",
              "      <td>5.0</td>\n",
              "      <td>213</td>\n",
              "    </tr>\n",
              "    <tr>\n",
              "      <th>26002</th>\n",
              "      <td>5.0</td>\n",
              "      <td>26002</td>\n",
              "    </tr>\n",
              "  </tbody>\n",
              "</table>\n",
              "</div>"
            ],
            "text/plain": [
              "         weighted average recommendation score  movieId\n",
              "movieId                                                \n",
              "7215                                       5.0     7215\n",
              "111778                                     5.0   111778\n",
              "171495                                     5.0   171495\n",
              "26231                                      5.0    26231\n",
              "6257                                       5.0     6257\n",
              "831                                        5.0      831\n",
              "26094                                      5.0    26094\n",
              "26090                                      5.0    26090\n",
              "213                                        5.0      213\n",
              "26002                                      5.0    26002"
            ]
          },
          "execution_count": 34,
          "metadata": {},
          "output_type": "execute_result"
        }
      ],
      "source": [
        "recommendation_df = recommendation_df.sort_values(by='weighted average recommendation score', ascending=False)\n",
        "recommendation_df.head(10)"
      ]
    },
    {
      "cell_type": "code",
      "execution_count": 35,
      "metadata": {
        "colab": {
          "base_uri": "https://localhost:8080/",
          "height": 363
        },
        "id": "TfPH9SUtRMlk",
        "outputId": "6d328eb7-17fd-487c-fa55-eb1c9aceefcb"
      },
      "outputs": [
        {
          "data": {
            "text/html": [
              "<div>\n",
              "<style scoped>\n",
              "    .dataframe tbody tr th:only-of-type {\n",
              "        vertical-align: middle;\n",
              "    }\n",
              "\n",
              "    .dataframe tbody tr th {\n",
              "        vertical-align: top;\n",
              "    }\n",
              "\n",
              "    .dataframe thead th {\n",
              "        text-align: right;\n",
              "    }\n",
              "</style>\n",
              "<table border=\"1\" class=\"dataframe\">\n",
              "  <thead>\n",
              "    <tr style=\"text-align: right;\">\n",
              "      <th></th>\n",
              "      <th>movieId</th>\n",
              "      <th>title</th>\n",
              "      <th>year</th>\n",
              "    </tr>\n",
              "  </thead>\n",
              "  <tbody>\n",
              "    <tr>\n",
              "      <th>211</th>\n",
              "      <td>213</td>\n",
              "      <td>Burnt by the Sun (Utomlyonnye solntsem)</td>\n",
              "      <td>1994</td>\n",
              "    </tr>\n",
              "    <tr>\n",
              "      <th>813</th>\n",
              "      <td>831</td>\n",
              "      <td>Stonewall</td>\n",
              "      <td>1995</td>\n",
              "    </tr>\n",
              "    <tr>\n",
              "      <th>6145</th>\n",
              "      <td>6257</td>\n",
              "      <td>I Am Curious (Yellow) (Jag är nyfiken - en fil...</td>\n",
              "      <td>1967</td>\n",
              "    </tr>\n",
              "    <tr>\n",
              "      <th>7090</th>\n",
              "      <td>7215</td>\n",
              "      <td>To Have and Have Not</td>\n",
              "      <td>1944</td>\n",
              "    </tr>\n",
              "    <tr>\n",
              "      <th>8513</th>\n",
              "      <td>26002</td>\n",
              "      <td>Confidential Report</td>\n",
              "      <td>1955</td>\n",
              "    </tr>\n",
              "    <tr>\n",
              "      <th>8570</th>\n",
              "      <td>26090</td>\n",
              "      <td>Easy Life, The (Il Sorpasso)</td>\n",
              "      <td>1962</td>\n",
              "    </tr>\n",
              "    <tr>\n",
              "      <th>8572</th>\n",
              "      <td>26094</td>\n",
              "      <td>Eclisse, L' (Eclipse)</td>\n",
              "      <td>1962</td>\n",
              "    </tr>\n",
              "    <tr>\n",
              "      <th>8674</th>\n",
              "      <td>26231</td>\n",
              "      <td>Performance</td>\n",
              "      <td>1970</td>\n",
              "    </tr>\n",
              "    <tr>\n",
              "      <th>21696</th>\n",
              "      <td>111778</td>\n",
              "      <td>Tracks</td>\n",
              "      <td>2013</td>\n",
              "    </tr>\n",
              "    <tr>\n",
              "      <th>45973</th>\n",
              "      <td>171495</td>\n",
              "      <td>Cosmos</td>\n",
              "      <td>NaN</td>\n",
              "    </tr>\n",
              "  </tbody>\n",
              "</table>\n",
              "</div>"
            ],
            "text/plain": [
              "       movieId                                              title  year\n",
              "211        213            Burnt by the Sun (Utomlyonnye solntsem)  1994\n",
              "813        831                                          Stonewall  1995\n",
              "6145      6257  I Am Curious (Yellow) (Jag är nyfiken - en fil...  1967\n",
              "7090      7215                               To Have and Have Not  1944\n",
              "8513     26002                                Confidential Report  1955\n",
              "8570     26090                       Easy Life, The (Il Sorpasso)  1962\n",
              "8572     26094                              Eclisse, L' (Eclipse)  1962\n",
              "8674     26231                                        Performance  1970\n",
              "21696   111778                                             Tracks  2013\n",
              "45973   171495                                             Cosmos   NaN"
            ]
          },
          "execution_count": 35,
          "metadata": {},
          "output_type": "execute_result"
        }
      ],
      "source": [
        "movies.loc[movies['movieId'].isin(recommendation_df.head(10)['movieId'].tolist())]"
      ]
    },
    {
      "cell_type": "code",
      "execution_count": null,
      "metadata": {
        "id": "tRTDDUvlRSa5"
      },
      "outputs": [],
      "source": []
    },
    {
      "cell_type": "code",
      "execution_count": null,
      "metadata": {
        "colab": {
          "base_uri": "https://localhost:8080/"
        },
        "id": "6lsaX0LU9aNd",
        "outputId": "5307733b-0d65-40c4-aed8-d6a7655e3c6c"
      },
      "outputs": [
        {
          "name": "stdout",
          "output_type": "stream",
          "text": [
            "Enter the number of movies you've watched: 5\n",
            "Enter the title of movie 1 : Breakfast Club, The\n",
            "Enter your rating for movie Breakfast Club, The (out of 5): 4\n",
            "Enter the title of movie 2 : Toy Story\n",
            "Enter your rating for movie Toy Story (out of 5): 2.5\n",
            "Enter the title of movie 3 : Jumanji\n",
            "Enter your rating for movie Jumanji (out of 5): 3\n",
            "Enter the title of movie 4 : Pulp Fiction\n",
            "Enter your rating for movie Pulp Fiction (out of 5): 4.5\n",
            "Enter the title of movie 5 : Akira\n",
            "Enter your rating for movie Akira (out of 5): 5\n",
            "\n",
            "Top 10 Recommendations:\n",
            "      movieId                                              title\n",
            "1984     2073                                           Fandango\n",
            "5116     5224                                           Promises\n",
            "5820     5932                                   Burden of Dreams\n",
            "5920     6032                                  Little Romance, A\n",
            "6074     6186                                  Gods and Generals\n",
            "6089     6201                                          Lady Jane\n",
            "6120     6232                                          Born Free\n",
            "6145     6257  I Am Curious (Yellow) (Jag är nyfiken - en fil...\n",
            "7326     7478                               Swimming to Cambodia\n",
            "8837    26491                                 To Be or Not to Be\n"
          ]
        }
      ],
      "source": [
        "import pandas as pd\n",
        "import numpy as np\n",
        "from math import sqrt\n",
        "\n",
        "# Sample data for movies and ratings\n",
        "movies = pd.read_csv('movies.csv', header=0)\n",
        "ratings = pd.read_csv('ratings.csv', header=0)\n",
        "\n",
        "movies['year'] = movies['title'].str.extract(r'\\((\\d{4})\\)')\n",
        "movies['title'] = movies['title'].str.replace(r'\\s*\\(\\d{4}\\)', '', regex=True)\n",
        "movies.drop(columns=['genres'], inplace=True)\n",
        "\n",
        "ratings.drop(columns=['timestamp'], inplace=True)\n",
        "\n",
        "def recommend_movies(input_movies):\n",
        "    # Get movie IDs based on input titles\n",
        "    movie_ids = movies[movies['title'].isin(input_movies)]['movieId'].tolist()\n",
        "    # Filter ratings for movies in input\n",
        "    users = ratings[ratings['movieId'].isin(movie_ids)]\n",
        "    # Group by user ID\n",
        "    user_subset_group = users.groupby('userId')\n",
        "    # Sort user groups by the number of movies in common with input\n",
        "    user_subset_group = sorted(user_subset_group, key=lambda x: len(x[1]), reverse=True)\n",
        "    user_subset_group = user_subset_group[:100]\n",
        "\n",
        "    pearson_cor_dict = {}\n",
        "    # For every user group in our subset\n",
        "    for name, group in user_subset_group:\n",
        "        group = group.sort_values(by='movieId')\n",
        "        input_movies_sorted = sorted(input_movies)\n",
        "        temp = group[group['movieId'].isin(movie_ids)]\n",
        "        temp_rating_list = temp['rating'].tolist()\n",
        "        temp_group_list = temp['rating'].tolist()\n",
        "        n = len(temp)\n",
        "        sxx = sum([i**2 for i in temp_rating_list]) - pow(sum(temp_rating_list), 2) / float(n)\n",
        "        syy = sum([i**2 for i in temp_group_list]) - pow(sum(temp_group_list), 2) / float(n)\n",
        "        sxy = sum(i * j for i, j in zip(temp_rating_list, temp_group_list)) - sum(temp_rating_list) * sum(\n",
        "            temp_group_list) / float(n)\n",
        "        if sxx != 0 and syy != 0:\n",
        "            pearson_cor_dict[name] = sxy / sqrt(sxx * syy)\n",
        "        else:\n",
        "            pearson_cor_dict[name] = 0\n",
        "\n",
        "    # Create DataFrame from Pearson correlation dict\n",
        "    pearson_df = pd.DataFrame.from_dict(pearson_cor_dict, orient='index')\n",
        "    pearson_df.columns = ['similarityIndex']\n",
        "    pearson_df['userId'] = pearson_df.index\n",
        "    pearson_df.index = range(len(pearson_df))\n",
        "\n",
        "    # Take top similar users\n",
        "    top_users = pearson_df.sort_values(by='similarityIndex', ascending=False)[0:50]\n",
        "\n",
        "    # Merge with ratings to get top user ratings\n",
        "    top_users_rating = top_users.merge(ratings, left_on='userId', right_on='userId', how='inner')\n",
        "\n",
        "    # Calculate weighted rating\n",
        "    top_users_rating['weightedRating'] = top_users_rating['similarityIndex'] * top_users_rating['rating']\n",
        "\n",
        "    # Aggregate ratings by movieId\n",
        "    temp_top_users_rating = top_users_rating.groupby('movieId').agg({'similarityIndex': 'sum', 'weightedRating': 'sum'})\n",
        "    temp_top_users_rating.columns = ['sum_similarityIndex', 'sum_weightedRating']\n",
        "\n",
        "    # Create recommendation DataFrame\n",
        "    recommendation_df = pd.DataFrame()\n",
        "    recommendation_df['weighted_average_recommendation_score'] = temp_top_users_rating['sum_weightedRating'] / \\\n",
        "                                                                 temp_top_users_rating['sum_similarityIndex']\n",
        "    recommendation_df['movieId'] = temp_top_users_rating.index\n",
        "\n",
        "    # Sort recommendations by score\n",
        "    recommendation_df = recommendation_df.sort_values(by='weighted_average_recommendation_score', ascending=False)\n",
        "\n",
        "    # Get movie details for top recommendations\n",
        "    top_recommendations = movies.loc[movies['movieId'].isin(recommendation_df.head(10)['movieId'].tolist())]\n",
        "\n",
        "    return top_recommendations\n",
        "\n",
        "# Example usage\n",
        "input_movies = []\n",
        "input_ratings = []\n",
        "\n",
        "num_movies = int(input(\"Enter the number of movies you've watched: \"))\n",
        "for i in range(num_movies):\n",
        "    title = input(\"Enter the title of movie {} : \".format(i + 1))\n",
        "    rating = float(input(\"Enter your rating for movie {} (out of 5): \".format(title)))\n",
        "    input_movies.append(title)\n",
        "    input_ratings.append(rating)\n",
        "\n",
        "# Get recommendations\n",
        "recommendations = recommend_movies(input_movies)\n",
        "\n",
        "# Display recommendations\n",
        "print(\"\\nTop 10 Recommendations:\")\n",
        "print(recommendations[['movieId', 'title']])"
      ]
    },
    {
      "cell_type": "code",
      "execution_count": null,
      "metadata": {
        "id": "8FDNQsBZBQct"
      },
      "outputs": [],
      "source": []
    },
    {
      "cell_type": "code",
      "execution_count": null,
      "metadata": {
        "id": "AElM1JwyFIwk"
      },
      "outputs": [],
      "source": []
    },
    {
      "cell_type": "code",
      "execution_count": null,
      "metadata": {
        "id": "OrLRSaTdFIis"
      },
      "outputs": [],
      "source": []
    },
    {
      "cell_type": "code",
      "execution_count": 1,
      "metadata": {
        "colab": {
          "base_uri": "https://localhost:8080/"
        },
        "id": "i1cRomBRFIRi",
        "outputId": "09a6d035-b2c7-45a2-86e8-635a6461ace0"
      },
      "outputs": [
        {
          "name": "stdout",
          "output_type": "stream",
          "text": [
            "\n",
            "Top 10 Recommendations:\n",
            "       movieId                                              title  year\n",
            "17618    92064                                         You and Me  1938\n",
            "17630    92120                         Good Bye (Bé omid é didar)  2011\n",
            "17665    92229                          Vanquished, The (I vinti)  1953\n",
            "39169   156581                                          Stutterer  2015\n",
            "39180   156603  In Search of Blind Joe Death: The Saga of John...  2013\n",
            "49086   178027                             People That Are Not Me  2016\n",
            "51689   183681  American Radical: The Trials of Norman Finkels...  2009\n",
            "51707   183721                            My Dad Is 100 Years Old  2005\n",
            "56692   194714                                 In the Intense Now  2017\n",
            "56720   194777                        The House of Violent Desire  2017\n"
          ]
        }
      ],
      "source": [
        "import pandas as pd\n",
        "# import numpy as np\n",
        "from math import sqrt\n",
        "# import matplotlib.pyplot as plt\n",
        "\n",
        "\n",
        "# Sample data for movies and ratings\n",
        "movies = pd.read_csv('movies.csv', header=0)\n",
        "ratings = pd.read_csv('ratings.csv', header=0)\n",
        "\n",
        "movies['year'] = movies['title'].str.extract(r'\\((\\d{4})\\)')\n",
        "movies['title'] = movies['title'].str.replace(r'\\s*\\(\\d{4}\\)', '', regex=True)\n",
        "movies.drop(columns=['genres'], inplace=True)\n",
        "\n",
        "ratings.drop(columns=['timestamp'], inplace=True)\n",
        "\n",
        "def recommend_movies(input_movies):\n",
        "    # Get movie IDs based on input titles\n",
        "    movie_ids = movies[movies['title'].isin(input_movies)]['movieId'].tolist()\n",
        "    # Filter ratings for movies in input\n",
        "    users = ratings[ratings['movieId'].isin(movie_ids)]\n",
        "    # Group by user ID\n",
        "    user_subset_group = users.groupby('userId')\n",
        "    # Sort user groups by the number of movies in common with input\n",
        "    user_subset_group = sorted(user_subset_group, key=lambda x: len(x[1]), reverse=True)\n",
        "    user_subset_group = user_subset_group[:100]\n",
        "\n",
        "    pearson_cor_dict = {}\n",
        "    # For every user group in our subset\n",
        "    for name, group in user_subset_group:\n",
        "        group = group.sort_values(by='movieId')\n",
        "        input_movies_sorted = sorted(input_movies)\n",
        "        temp = group[group['movieId'].isin(movie_ids)]\n",
        "        temp_rating_list = temp['rating'].tolist()\n",
        "        temp_group_list = temp['rating'].tolist()\n",
        "        n = len(temp)\n",
        "        sxx = sum([i**2 for i in temp_rating_list]) - pow(sum(temp_rating_list), 2) / float(n)\n",
        "        syy = sum([i**2 for i in temp_group_list]) - pow(sum(temp_group_list), 2) / float(n)\n",
        "        sxy = sum(i * j for i, j in zip(temp_rating_list, temp_group_list)) - sum(temp_rating_list) * sum(\n",
        "            temp_group_list) / float(n)\n",
        "        if sxx != 0 and syy != 0:\n",
        "            pearson_cor_dict[name] = sxy / sqrt(sxx * syy)\n",
        "        else:\n",
        "            pearson_cor_dict[name] = 0\n",
        "\n",
        "    # Create DataFrame from Pearson correlation dict\n",
        "    pearson_df = pd.DataFrame.from_dict(pearson_cor_dict, orient='index')\n",
        "    pearson_df.columns = ['similarityIndex']\n",
        "    pearson_df['userId'] = pearson_df.index\n",
        "    pearson_df.index = range(len(pearson_df))\n",
        "\n",
        "    # Take top similar users\n",
        "    top_users = pearson_df.sort_values(by='similarityIndex', ascending=False)[0:50]\n",
        "\n",
        "    # Merge with ratings to get top user ratings\n",
        "    top_users_rating = top_users.merge(ratings, left_on='userId', right_on='userId', how='inner')\n",
        "\n",
        "    # Calculate weighted rating\n",
        "    top_users_rating['weightedRating'] = top_users_rating['similarityIndex'] * top_users_rating['rating']\n",
        "\n",
        "    # Aggregate ratings by movieId\n",
        "    temp_top_users_rating = top_users_rating.groupby('movieId').agg({'similarityIndex': 'sum', 'weightedRating': 'sum'})\n",
        "    temp_top_users_rating.columns = ['sum_similarityIndex', 'sum_weightedRating']\n",
        "\n",
        "    # Create recommendation DataFrame\n",
        "    recommendation_df = pd.DataFrame()\n",
        "    recommendation_df['weighted_average_recommendation_score'] = temp_top_users_rating['sum_weightedRating'] / \\\n",
        "                                                                 temp_top_users_rating['sum_similarityIndex']\n",
        "    recommendation_df['movieId'] = temp_top_users_rating.index\n",
        "\n",
        "    # Sort recommendations by score\n",
        "    recommendation_df = recommendation_df.sort_values(by='weighted_average_recommendation_score', ascending=False)\n",
        "\n",
        "    # Get movie details for top recommendations\n",
        "    top_recommendations = movies.loc[movies['movieId'].isin(recommendation_df.head(10)['movieId'].tolist())]\n",
        "\n",
        "    return top_recommendations\n",
        "\n",
        "#Example usage\n",
        "input_movies = []\n",
        "input_ratings = []\n",
        "\n",
        "num_movies = int(input(\"Enter the number of movies you've watched: \"))\n",
        "for i in range(num_movies):\n",
        "    title = input(\"Enter the title of movie {} : \".format(i + 1))\n",
        "    rating = float(input(\"Enter your rating for movie {} (out of 5): \".format(title)))\n",
        "    input_movies.append(title)\n",
        "    input_ratings.append(rating)\n",
        "\n",
        "# Get recommendations\n",
        "recommendations = recommend_movies(input_movies)\n",
        "\n",
        "# Display recommendations\n",
        "print(\"\\nTop 10 Recommendations:\")\n",
        "print(recommendations[['movieId', 'title','year']])\n"
      ]
    }
  ],
  "metadata": {
    "colab": {
      "provenance": []
    },
    "kernelspec": {
      "display_name": "Python 3",
      "name": "python3"
    },
    "language_info": {
      "codemirror_mode": {
        "name": "ipython",
        "version": 3
      },
      "file_extension": ".py",
      "mimetype": "text/x-python",
      "name": "python",
      "nbconvert_exporter": "python",
      "pygments_lexer": "ipython3",
      "version": "3.12.2"
    }
  },
  "nbformat": 4,
  "nbformat_minor": 0
}
